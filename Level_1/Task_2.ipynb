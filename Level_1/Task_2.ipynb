{
 "cells": [
  {
   "cell_type": "markdown",
   "metadata": {},
   "source": [
    "# Task 2\n",
    "\n",
    "# Task: City Analysis\n",
    "\n",
    "## Identify the city with the highest number of restaurants in the dataset.\n",
    "\n",
    "## Calculate the average rating for restaurants in each city.\n",
    "\n",
    "##  Determine the city with the highest average rating.\n"
   ]
  },
  {
   "cell_type": "code",
   "execution_count": 1,
   "metadata": {},
   "outputs": [
    {
     "data": {
      "text/html": [
       "<div>\n",
       "<style scoped>\n",
       "    .dataframe tbody tr th:only-of-type {\n",
       "        vertical-align: middle;\n",
       "    }\n",
       "\n",
       "    .dataframe tbody tr th {\n",
       "        vertical-align: top;\n",
       "    }\n",
       "\n",
       "    .dataframe thead th {\n",
       "        text-align: right;\n",
       "    }\n",
       "</style>\n",
       "<table border=\"1\" class=\"dataframe\">\n",
       "  <thead>\n",
       "    <tr style=\"text-align: right;\">\n",
       "      <th></th>\n",
       "      <th>Restaurant ID</th>\n",
       "      <th>Restaurant Name</th>\n",
       "      <th>Country Code</th>\n",
       "      <th>Country</th>\n",
       "      <th>City</th>\n",
       "      <th>Locality</th>\n",
       "      <th>Longitude</th>\n",
       "      <th>Latitude</th>\n",
       "      <th>Cuisines</th>\n",
       "      <th>Average Cost for two</th>\n",
       "      <th>...</th>\n",
       "      <th>Currency</th>\n",
       "      <th>Has Table booking</th>\n",
       "      <th>Has Online delivery</th>\n",
       "      <th>Is delivering now</th>\n",
       "      <th>Switch to order menu</th>\n",
       "      <th>Price range</th>\n",
       "      <th>Aggregate rating</th>\n",
       "      <th>Rating color</th>\n",
       "      <th>Rating text</th>\n",
       "      <th>Votes</th>\n",
       "    </tr>\n",
       "  </thead>\n",
       "  <tbody>\n",
       "    <tr>\n",
       "      <th>0</th>\n",
       "      <td>6317637</td>\n",
       "      <td>Le Petit Souffle</td>\n",
       "      <td>162</td>\n",
       "      <td>Philippines</td>\n",
       "      <td>Makati City</td>\n",
       "      <td>Century City Mall, Poblacion, Makati City</td>\n",
       "      <td>121.027535</td>\n",
       "      <td>14.565443</td>\n",
       "      <td>French, Japanese, Desserts</td>\n",
       "      <td>1100</td>\n",
       "      <td>...</td>\n",
       "      <td>Botswana Pula(P)</td>\n",
       "      <td>Yes</td>\n",
       "      <td>No</td>\n",
       "      <td>No</td>\n",
       "      <td>No</td>\n",
       "      <td>3</td>\n",
       "      <td>4.8</td>\n",
       "      <td>Dark Green</td>\n",
       "      <td>Excellent</td>\n",
       "      <td>314</td>\n",
       "    </tr>\n",
       "    <tr>\n",
       "      <th>1</th>\n",
       "      <td>6304287</td>\n",
       "      <td>Izakaya Kikufuji</td>\n",
       "      <td>162</td>\n",
       "      <td>Philippines</td>\n",
       "      <td>Makati City</td>\n",
       "      <td>Little Tokyo, Legaspi Village, Makati City</td>\n",
       "      <td>121.014101</td>\n",
       "      <td>14.553708</td>\n",
       "      <td>Japanese</td>\n",
       "      <td>1200</td>\n",
       "      <td>...</td>\n",
       "      <td>Botswana Pula(P)</td>\n",
       "      <td>Yes</td>\n",
       "      <td>No</td>\n",
       "      <td>No</td>\n",
       "      <td>No</td>\n",
       "      <td>3</td>\n",
       "      <td>4.5</td>\n",
       "      <td>Dark Green</td>\n",
       "      <td>Excellent</td>\n",
       "      <td>591</td>\n",
       "    </tr>\n",
       "    <tr>\n",
       "      <th>2</th>\n",
       "      <td>6300002</td>\n",
       "      <td>Heat - Edsa Shangri-La</td>\n",
       "      <td>162</td>\n",
       "      <td>Philippines</td>\n",
       "      <td>Mandaluyong City</td>\n",
       "      <td>Edsa Shangri-La, Ortigas, Mandaluyong City</td>\n",
       "      <td>121.056831</td>\n",
       "      <td>14.581404</td>\n",
       "      <td>Seafood, Asian, Filipino, Indian</td>\n",
       "      <td>4000</td>\n",
       "      <td>...</td>\n",
       "      <td>Botswana Pula(P)</td>\n",
       "      <td>Yes</td>\n",
       "      <td>No</td>\n",
       "      <td>No</td>\n",
       "      <td>No</td>\n",
       "      <td>4</td>\n",
       "      <td>4.4</td>\n",
       "      <td>Green</td>\n",
       "      <td>Very Good</td>\n",
       "      <td>270</td>\n",
       "    </tr>\n",
       "    <tr>\n",
       "      <th>3</th>\n",
       "      <td>6318506</td>\n",
       "      <td>Ooma</td>\n",
       "      <td>162</td>\n",
       "      <td>Philippines</td>\n",
       "      <td>Mandaluyong City</td>\n",
       "      <td>SM Megamall, Ortigas, Mandaluyong City</td>\n",
       "      <td>121.056475</td>\n",
       "      <td>14.585318</td>\n",
       "      <td>Japanese, Sushi</td>\n",
       "      <td>1500</td>\n",
       "      <td>...</td>\n",
       "      <td>Botswana Pula(P)</td>\n",
       "      <td>No</td>\n",
       "      <td>No</td>\n",
       "      <td>No</td>\n",
       "      <td>No</td>\n",
       "      <td>4</td>\n",
       "      <td>4.9</td>\n",
       "      <td>Dark Green</td>\n",
       "      <td>Excellent</td>\n",
       "      <td>365</td>\n",
       "    </tr>\n",
       "    <tr>\n",
       "      <th>4</th>\n",
       "      <td>6314302</td>\n",
       "      <td>Sambo Kojin</td>\n",
       "      <td>162</td>\n",
       "      <td>Philippines</td>\n",
       "      <td>Mandaluyong City</td>\n",
       "      <td>SM Megamall, Ortigas, Mandaluyong City</td>\n",
       "      <td>121.057508</td>\n",
       "      <td>14.584450</td>\n",
       "      <td>Japanese, Korean</td>\n",
       "      <td>1500</td>\n",
       "      <td>...</td>\n",
       "      <td>Botswana Pula(P)</td>\n",
       "      <td>Yes</td>\n",
       "      <td>No</td>\n",
       "      <td>No</td>\n",
       "      <td>No</td>\n",
       "      <td>4</td>\n",
       "      <td>4.8</td>\n",
       "      <td>Dark Green</td>\n",
       "      <td>Excellent</td>\n",
       "      <td>229</td>\n",
       "    </tr>\n",
       "  </tbody>\n",
       "</table>\n",
       "<p>5 rows × 21 columns</p>\n",
       "</div>"
      ],
      "text/plain": [
       "   Restaurant ID         Restaurant Name  Country Code      Country  \\\n",
       "0        6317637        Le Petit Souffle           162  Philippines   \n",
       "1        6304287        Izakaya Kikufuji           162  Philippines   \n",
       "2        6300002  Heat - Edsa Shangri-La           162  Philippines   \n",
       "3        6318506                    Ooma           162  Philippines   \n",
       "4        6314302             Sambo Kojin           162  Philippines   \n",
       "\n",
       "               City                                    Locality   Longitude  \\\n",
       "0       Makati City   Century City Mall, Poblacion, Makati City  121.027535   \n",
       "1       Makati City  Little Tokyo, Legaspi Village, Makati City  121.014101   \n",
       "2  Mandaluyong City  Edsa Shangri-La, Ortigas, Mandaluyong City  121.056831   \n",
       "3  Mandaluyong City      SM Megamall, Ortigas, Mandaluyong City  121.056475   \n",
       "4  Mandaluyong City      SM Megamall, Ortigas, Mandaluyong City  121.057508   \n",
       "\n",
       "    Latitude                          Cuisines  Average Cost for two  ...  \\\n",
       "0  14.565443        French, Japanese, Desserts                  1100  ...   \n",
       "1  14.553708                          Japanese                  1200  ...   \n",
       "2  14.581404  Seafood, Asian, Filipino, Indian                  4000  ...   \n",
       "3  14.585318                   Japanese, Sushi                  1500  ...   \n",
       "4  14.584450                  Japanese, Korean                  1500  ...   \n",
       "\n",
       "           Currency Has Table booking Has Online delivery Is delivering now  \\\n",
       "0  Botswana Pula(P)               Yes                  No                No   \n",
       "1  Botswana Pula(P)               Yes                  No                No   \n",
       "2  Botswana Pula(P)               Yes                  No                No   \n",
       "3  Botswana Pula(P)                No                  No                No   \n",
       "4  Botswana Pula(P)               Yes                  No                No   \n",
       "\n",
       "  Switch to order menu Price range  Aggregate rating  Rating color  \\\n",
       "0                   No           3               4.8    Dark Green   \n",
       "1                   No           3               4.5    Dark Green   \n",
       "2                   No           4               4.4         Green   \n",
       "3                   No           4               4.9    Dark Green   \n",
       "4                   No           4               4.8    Dark Green   \n",
       "\n",
       "  Rating text Votes  \n",
       "0   Excellent   314  \n",
       "1   Excellent   591  \n",
       "2   Very Good   270  \n",
       "3   Excellent   365  \n",
       "4   Excellent   229  \n",
       "\n",
       "[5 rows x 21 columns]"
      ]
     },
     "execution_count": 1,
     "metadata": {},
     "output_type": "execute_result"
    }
   ],
   "source": [
    "import pandas as pd\n",
    "import numpy as np\n",
    "import matplotlib.pyplot as plt\n",
    "\n",
    "# Load the data\n",
    "df = pd.read_csv(\"D:\\Alwin\\Intership\\Cognifyz\\Intership_Resources\\Dataset_copy.csv\")\n",
    "\n",
    "df.head()"
   ]
  },
  {
   "cell_type": "code",
   "execution_count": 2,
   "metadata": {},
   "outputs": [
    {
     "data": {
      "text/plain": [
       "Restaurant ID                0\n",
       "Restaurant Name              0\n",
       "Country Code                 0\n",
       "Country                      0\n",
       "City                         0\n",
       "Locality                     0\n",
       "Longitude                    0\n",
       "Latitude                     0\n",
       "Cuisines                     0\n",
       "Average Cost for two         0\n",
       "Average Cost for two (Rs)    0\n",
       "Currency                     0\n",
       "Has Table booking            0\n",
       "Has Online delivery          0\n",
       "Is delivering now            0\n",
       "Switch to order menu         0\n",
       "Price range                  0\n",
       "Aggregate rating             0\n",
       "Rating color                 0\n",
       "Rating text                  0\n",
       "Votes                        0\n",
       "dtype: int64"
      ]
     },
     "execution_count": 2,
     "metadata": {},
     "output_type": "execute_result"
    }
   ],
   "source": [
    "missing_values = df.isnull().sum()\n",
    "\n",
    "missing_values"
   ]
  },
  {
   "cell_type": "markdown",
   "metadata": {},
   "source": [
    "## Identify the city with the highest number of restaurants in the dataset."
   ]
  },
  {
   "cell_type": "code",
   "execution_count": 3,
   "metadata": {},
   "outputs": [
    {
     "name": "stdout",
     "output_type": "stream",
     "text": [
      "The City with highest number of restaurant is:\n",
      "City\n",
      "New Delhi    5473\n",
      "Name: count, dtype: int64\n"
     ]
    }
   ],
   "source": [
    "highest_no_of_restaurant = df['City'].value_counts().head(1)\n",
    "\n",
    "print('The City with highest number of restaurant is:', highest_no_of_restaurant, sep='\\n')"
   ]
  },
  {
   "cell_type": "markdown",
   "metadata": {},
   "source": [
    "## Calculate the average rating for restaurants in each city."
   ]
  },
  {
   "cell_type": "code",
   "execution_count": 4,
   "metadata": {},
   "outputs": [
    {
     "data": {
      "text/plain": [
       "array(['Makati City', 'Mandaluyong City', 'Pasay City', 'Pasig City',\n",
       "       'Quezon City', 'San Juan City', 'Santa Rosa', 'Tagaytay City',\n",
       "       'Taguig City', 'Brasilia', 'Rio de Janeiro', 'Sao Paulo', 'Albany',\n",
       "       'Armidale', 'Athens', 'Augusta', 'Balingup', 'Beechworth', 'Boise',\n",
       "       'Cedar Rapids/Iowa City', 'Chatham-Kent', 'Clatskanie', 'Cochrane',\n",
       "       'Columbus', 'Consort', 'Dalton', 'Davenport', 'Des Moines',\n",
       "       'Dicky Beach', 'Dubuque', 'East Ballina', 'Fernley', 'Flaxton',\n",
       "       'Forrest', 'Gainesville', 'Hepburn Springs', 'Huskisson',\n",
       "       'Inverloch', 'Lakes Entrance', 'Lakeview', 'Lincoln', 'Lorn',\n",
       "       'Macedon', 'Macon', 'Mayfield', 'Mc Millan', 'Middleton Beach',\n",
       "       'Miller', 'Monroe', 'Montville', 'Ojo Caliente', 'Orlando',\n",
       "       'Palm Cove', 'Paynesville', 'Penola', 'Pensacola',\n",
       "       'Phillip Island', 'Pocatello', 'Potrero', 'Princeton',\n",
       "       'Rest of Hawaii', 'Savannah', 'Singapore', 'Sioux City',\n",
       "       'Tampa Bay', 'Tanunda', 'Trentham East', 'Valdosta', 'Vernonia',\n",
       "       'Victor Harbor', 'Vineland Station', 'Waterloo', 'Weirton',\n",
       "       'Winchester Bay', 'Yorkton', 'Abu Dhabi', '`', 'Dubai', 'Sharjah',\n",
       "       'Agra', 'Ahmedabad', 'Allahabad', 'Amritsar', 'Aurangabad',\n",
       "       'Bangalore', 'Bhopal', 'Bhubaneshwar', 'Chandigarh', 'Chennai',\n",
       "       'Coimbatore', 'Dehradun', 'Faridabad', 'Ghaziabad', 'Goa',\n",
       "       'Gurgaon', 'Guwahati', 'Hyderabad', 'Indore', 'Jaipur', 'Kanpur',\n",
       "       'Kochi', 'Kolkata', 'Lucknow', 'Ludhiana', 'Mangalore', 'Mohali',\n",
       "       'Mumbai', 'Mysore', 'Nagpur', 'Nashik', 'New Delhi', 'Noida',\n",
       "       'Panchkula', 'Patna', 'Puducherry', 'Pune', 'Ranchi',\n",
       "       'Secunderabad', 'Surat', 'Vadodara', 'Varanasi', 'Vizag',\n",
       "       'Bandung', 'Bogor', 'Jakarta', 'Tangerang', 'Auckland',\n",
       "       'Wellington City', 'Birmingham', 'Edinburgh', 'London',\n",
       "       'Manchester', 'Doha', 'Cape Town', 'Inner City', 'Johannesburg',\n",
       "       'Pretoria', 'Randburg', 'Sandton', 'Colombo', 'Ankara', 'Istanbul'],\n",
       "      dtype=object)"
      ]
     },
     "execution_count": 4,
     "metadata": {},
     "output_type": "execute_result"
    }
   ],
   "source": [
    "df['City'].unique()"
   ]
  },
  {
   "cell_type": "code",
   "execution_count": 5,
   "metadata": {},
   "outputs": [
    {
     "name": "stdout",
     "output_type": "stream",
     "text": [
      "The average rating of restaurant in each city is:\n",
      "City\n",
      "Abu Dhabi          4.300000\n",
      "Agra               3.965000\n",
      "Ahmedabad          4.161905\n",
      "Albany             3.555000\n",
      "Allahabad          3.395000\n",
      "                     ...   \n",
      "Weirton            3.900000\n",
      "Wellington City    4.250000\n",
      "Winchester Bay     3.200000\n",
      "Yorkton            3.300000\n",
      "`                  3.900000\n",
      "Name: Aggregate rating, Length: 142, dtype: float64\n"
     ]
    }
   ],
   "source": [
    "average_rating = df.groupby('City')['Aggregate rating'].mean()\n",
    "\n",
    "print('The average rating of restaurant in each city is:', average_rating, sep='\\n')"
   ]
  },
  {
   "cell_type": "markdown",
   "metadata": {},
   "source": [
    "##  Determine the city with the highest average rating."
   ]
  },
  {
   "cell_type": "code",
   "execution_count": 6,
   "metadata": {},
   "outputs": [
    {
     "name": "stdout",
     "output_type": "stream",
     "text": [
      "The city with highest average rating is: Inner City with rating: 4.9\n"
     ]
    }
   ],
   "source": [
    "average_rating = df.groupby('City')['Aggregate rating'].mean()\n",
    "\n",
    "highest_avg_rating = average_rating.idxmax()\n",
    "\n",
    "value = average_rating.max()\n",
    "\n",
    "print('The city with highest average rating is:', highest_avg_rating, 'with rating:', value)"
   ]
  }
 ],
 "metadata": {
  "kernelspec": {
   "display_name": "my_tasks",
   "language": "python",
   "name": "python3"
  },
  "language_info": {
   "codemirror_mode": {
    "name": "ipython",
    "version": 3
   },
   "file_extension": ".py",
   "mimetype": "text/x-python",
   "name": "python",
   "nbconvert_exporter": "python",
   "pygments_lexer": "ipython3",
   "version": "3.11.11"
  }
 },
 "nbformat": 4,
 "nbformat_minor": 2
}
